{
  "cells": [
    {
      "cell_type": "markdown",
      "metadata": {
        "id": "view-in-github",
        "colab_type": "text"
      },
      "source": [
        "<a href=\"https://colab.research.google.com/github/hehuan2363/RAG-test/blob/main/docs/sphinx/source/examples/mother-of-all-embedding-models-cloud.ipynb\" target=\"_parent\"><img src=\"https://colab.research.google.com/assets/colab-badge.svg\" alt=\"Open In Colab\"/></a>"
      ]
    },
    {
      "cell_type": "markdown",
      "source": [
        "HUAN'S NOTE:\n",
        "2024-02-07: This is the testing for Using BGE-M3 in Vespa. Indeed it works well for three representations:\n",
        "Sparse vectors with weights for the token IDs (from the\n",
        "\n",
        "*   multilingual tokenization process)\n",
        "*   Dense (DPR) regular text embeddings\n",
        "*   Multi-Dense (ColBERT) - contextualized multi-token vectors\n",
        "\n",
        "But this example only shows for single data"
      ],
      "metadata": {
        "id": "bP_QVlFI6d1N"
      },
      "id": "bP_QVlFI6d1N"
    },
    {
      "cell_type": "markdown",
      "id": "b3ae8a2b",
      "metadata": {
        "id": "b3ae8a2b"
      },
      "source": [
        "<picture>\n",
        "  <source media=\"(prefers-color-scheme: dark)\" srcset=\"https://vespa.ai/assets/vespa-ai-logo-heather.svg\">\n",
        "  <source media=\"(prefers-color-scheme: light)\" srcset=\"https://vespa.ai/assets/vespa-ai-logo-rock.svg\">\n",
        "  <img alt=\"#Vespa\" width=\"200\" src=\"https://vespa.ai/assets/vespa-ai-logo-heather.svg\" style=\"margin-bottom: 25px;\">\n",
        "</picture>\n",
        "\n",
        "\n",
        "# BGE-M3 - The Mother of all embedding models\n",
        "\n",
        "BAAI released BGE-M3 on January 30th, a new member of the BGE model series.\n",
        "\n",
        "> M3 stands for Multi-linguality (100+ languages), Multi-granularities (input length up to 8192), Multi-Functionality (unification of dense, lexical, multi-vec (colbert) retrieval).\n",
        "\n",
        "This notebook demonstrates how to use the [BGE-M3](https://github.com/FlagOpen/FlagEmbedding/tree/master/FlagEmbedding/BGE_M3) embeddings and\n",
        "represent all three embedding representations in Vespa! Vespa is the only scalable serving engine that can handle all M3 representations.\n",
        "\n",
        "This code is inspired by the README from the model hub [BAAI/bge-m3](https://huggingface.co/BAAI/bge-m3).\n",
        "\n",
        "\n",
        "Let's get started! First, install dependencies:"
      ]
    },
    {
      "cell_type": "code",
      "execution_count": 1,
      "id": "4ffa3cbe",
      "metadata": {
        "id": "4ffa3cbe",
        "outputId": "bd66c022-7333-4383-a7c9-868cff79e494",
        "colab": {
          "base_uri": "https://localhost:8080/"
        }
      },
      "outputs": [
        {
          "output_type": "stream",
          "name": "stdout",
          "text": [
            "Requirement already satisfied: pyvespa in /usr/local/lib/python3.10/dist-packages (0.39.0)\n",
            "Requirement already satisfied: FlagEmbedding in /usr/local/lib/python3.10/dist-packages (1.2.3)\n",
            "Requirement already satisfied: requests in /usr/local/lib/python3.10/dist-packages (from pyvespa) (2.31.0)\n",
            "Requirement already satisfied: pandas in /usr/local/lib/python3.10/dist-packages (from pyvespa) (1.5.3)\n",
            "Requirement already satisfied: docker in /usr/local/lib/python3.10/dist-packages (from pyvespa) (7.0.0)\n",
            "Requirement already satisfied: jinja2 in /usr/local/lib/python3.10/dist-packages (from pyvespa) (3.1.3)\n",
            "Requirement already satisfied: cryptography in /usr/local/lib/python3.10/dist-packages (from pyvespa) (42.0.2)\n",
            "Requirement already satisfied: aiohttp in /usr/local/lib/python3.10/dist-packages (from pyvespa) (3.9.3)\n",
            "Requirement already satisfied: tenacity in /usr/local/lib/python3.10/dist-packages (from pyvespa) (8.2.3)\n",
            "Requirement already satisfied: typing-extensions in /usr/local/lib/python3.10/dist-packages (from pyvespa) (4.9.0)\n",
            "Requirement already satisfied: torch>=1.6.0 in /usr/local/lib/python3.10/dist-packages (from FlagEmbedding) (2.1.0+cu121)\n",
            "Requirement already satisfied: transformers>=4.33.0 in /usr/local/lib/python3.10/dist-packages (from FlagEmbedding) (4.37.2)\n",
            "Requirement already satisfied: datasets in /usr/local/lib/python3.10/dist-packages (from FlagEmbedding) (2.16.1)\n",
            "Requirement already satisfied: accelerate>=0.20.1 in /usr/local/lib/python3.10/dist-packages (from FlagEmbedding) (0.26.1)\n",
            "Requirement already satisfied: sentence-transformers in /usr/local/lib/python3.10/dist-packages (from FlagEmbedding) (2.3.1)\n",
            "Requirement already satisfied: numpy>=1.17 in /usr/local/lib/python3.10/dist-packages (from accelerate>=0.20.1->FlagEmbedding) (1.23.5)\n",
            "Requirement already satisfied: packaging>=20.0 in /usr/local/lib/python3.10/dist-packages (from accelerate>=0.20.1->FlagEmbedding) (23.2)\n",
            "Requirement already satisfied: psutil in /usr/local/lib/python3.10/dist-packages (from accelerate>=0.20.1->FlagEmbedding) (5.9.5)\n",
            "Requirement already satisfied: pyyaml in /usr/local/lib/python3.10/dist-packages (from accelerate>=0.20.1->FlagEmbedding) (6.0.1)\n",
            "Requirement already satisfied: huggingface-hub in /usr/local/lib/python3.10/dist-packages (from accelerate>=0.20.1->FlagEmbedding) (0.20.3)\n",
            "Requirement already satisfied: safetensors>=0.3.1 in /usr/local/lib/python3.10/dist-packages (from accelerate>=0.20.1->FlagEmbedding) (0.4.2)\n",
            "Requirement already satisfied: filelock in /usr/local/lib/python3.10/dist-packages (from torch>=1.6.0->FlagEmbedding) (3.13.1)\n",
            "Requirement already satisfied: sympy in /usr/local/lib/python3.10/dist-packages (from torch>=1.6.0->FlagEmbedding) (1.12)\n",
            "Requirement already satisfied: networkx in /usr/local/lib/python3.10/dist-packages (from torch>=1.6.0->FlagEmbedding) (3.2.1)\n",
            "Requirement already satisfied: fsspec in /usr/local/lib/python3.10/dist-packages (from torch>=1.6.0->FlagEmbedding) (2023.6.0)\n",
            "Requirement already satisfied: triton==2.1.0 in /usr/local/lib/python3.10/dist-packages (from torch>=1.6.0->FlagEmbedding) (2.1.0)\n",
            "Requirement already satisfied: regex!=2019.12.17 in /usr/local/lib/python3.10/dist-packages (from transformers>=4.33.0->FlagEmbedding) (2023.12.25)\n",
            "Requirement already satisfied: tokenizers<0.19,>=0.14 in /usr/local/lib/python3.10/dist-packages (from transformers>=4.33.0->FlagEmbedding) (0.15.1)\n",
            "Requirement already satisfied: tqdm>=4.27 in /usr/local/lib/python3.10/dist-packages (from transformers>=4.33.0->FlagEmbedding) (4.66.1)\n",
            "Requirement already satisfied: aiosignal>=1.1.2 in /usr/local/lib/python3.10/dist-packages (from aiohttp->pyvespa) (1.3.1)\n",
            "Requirement already satisfied: attrs>=17.3.0 in /usr/local/lib/python3.10/dist-packages (from aiohttp->pyvespa) (23.2.0)\n",
            "Requirement already satisfied: frozenlist>=1.1.1 in /usr/local/lib/python3.10/dist-packages (from aiohttp->pyvespa) (1.4.1)\n",
            "Requirement already satisfied: multidict<7.0,>=4.5 in /usr/local/lib/python3.10/dist-packages (from aiohttp->pyvespa) (6.0.5)\n",
            "Requirement already satisfied: yarl<2.0,>=1.0 in /usr/local/lib/python3.10/dist-packages (from aiohttp->pyvespa) (1.9.4)\n",
            "Requirement already satisfied: async-timeout<5.0,>=4.0 in /usr/local/lib/python3.10/dist-packages (from aiohttp->pyvespa) (4.0.3)\n",
            "Requirement already satisfied: cffi>=1.12 in /usr/local/lib/python3.10/dist-packages (from cryptography->pyvespa) (1.16.0)\n",
            "Requirement already satisfied: pyarrow>=8.0.0 in /usr/local/lib/python3.10/dist-packages (from datasets->FlagEmbedding) (10.0.1)\n",
            "Requirement already satisfied: pyarrow-hotfix in /usr/local/lib/python3.10/dist-packages (from datasets->FlagEmbedding) (0.6)\n",
            "Requirement already satisfied: dill<0.3.8,>=0.3.0 in /usr/local/lib/python3.10/dist-packages (from datasets->FlagEmbedding) (0.3.7)\n",
            "Requirement already satisfied: xxhash in /usr/local/lib/python3.10/dist-packages (from datasets->FlagEmbedding) (3.4.1)\n",
            "Requirement already satisfied: multiprocess in /usr/local/lib/python3.10/dist-packages (from datasets->FlagEmbedding) (0.70.15)\n",
            "Requirement already satisfied: charset-normalizer<4,>=2 in /usr/local/lib/python3.10/dist-packages (from requests->pyvespa) (3.3.2)\n",
            "Requirement already satisfied: idna<4,>=2.5 in /usr/local/lib/python3.10/dist-packages (from requests->pyvespa) (3.6)\n",
            "Requirement already satisfied: urllib3<3,>=1.21.1 in /usr/local/lib/python3.10/dist-packages (from requests->pyvespa) (2.0.7)\n",
            "Requirement already satisfied: certifi>=2017.4.17 in /usr/local/lib/python3.10/dist-packages (from requests->pyvespa) (2024.2.2)\n",
            "Requirement already satisfied: MarkupSafe>=2.0 in /usr/local/lib/python3.10/dist-packages (from jinja2->pyvespa) (2.1.5)\n",
            "Requirement already satisfied: python-dateutil>=2.8.1 in /usr/local/lib/python3.10/dist-packages (from pandas->pyvespa) (2.8.2)\n",
            "Requirement already satisfied: pytz>=2020.1 in /usr/local/lib/python3.10/dist-packages (from pandas->pyvespa) (2023.4)\n",
            "Requirement already satisfied: scikit-learn in /usr/local/lib/python3.10/dist-packages (from sentence-transformers->FlagEmbedding) (1.2.2)\n",
            "Requirement already satisfied: scipy in /usr/local/lib/python3.10/dist-packages (from sentence-transformers->FlagEmbedding) (1.11.4)\n",
            "Requirement already satisfied: nltk in /usr/local/lib/python3.10/dist-packages (from sentence-transformers->FlagEmbedding) (3.8.1)\n",
            "Requirement already satisfied: sentencepiece in /usr/local/lib/python3.10/dist-packages (from sentence-transformers->FlagEmbedding) (0.1.99)\n",
            "Requirement already satisfied: Pillow in /usr/local/lib/python3.10/dist-packages (from sentence-transformers->FlagEmbedding) (9.4.0)\n",
            "Requirement already satisfied: pycparser in /usr/local/lib/python3.10/dist-packages (from cffi>=1.12->cryptography->pyvespa) (2.21)\n",
            "Requirement already satisfied: six>=1.5 in /usr/local/lib/python3.10/dist-packages (from python-dateutil>=2.8.1->pandas->pyvespa) (1.16.0)\n",
            "Requirement already satisfied: click in /usr/local/lib/python3.10/dist-packages (from nltk->sentence-transformers->FlagEmbedding) (8.1.7)\n",
            "Requirement already satisfied: joblib in /usr/local/lib/python3.10/dist-packages (from nltk->sentence-transformers->FlagEmbedding) (1.3.2)\n",
            "Requirement already satisfied: threadpoolctl>=2.0.0 in /usr/local/lib/python3.10/dist-packages (from scikit-learn->sentence-transformers->FlagEmbedding) (3.2.0)\n",
            "Requirement already satisfied: mpmath>=0.19 in /usr/local/lib/python3.10/dist-packages (from sympy->torch>=1.6.0->FlagEmbedding) (1.3.0)\n"
          ]
        }
      ],
      "source": [
        "!pip3 install -U pyvespa FlagEmbedding"
      ]
    },
    {
      "cell_type": "markdown",
      "id": "33c8d886",
      "metadata": {
        "id": "33c8d886"
      },
      "source": [
        "### Explore the multiple representations of M3\n",
        "When encoding text, we can ask for the representations we want\n",
        "\n",
        "- Sparse vectors with weights for the token IDs (from the multilingual tokenization process)\n",
        "- Dense (DPR) regular text embeddings\n",
        "- Multi-Dense (ColBERT) - contextualized multi-token vectors\n",
        "\n",
        "Let us dive into it - To use this model on the CPU we set `use_fp16` to False, for GPU inference, it is recommended to use `use_fp16=True` for accelerated inference."
      ]
    },
    {
      "cell_type": "code",
      "source": [
        "!pip install -U transformers"
      ],
      "metadata": {
        "id": "FMChSp_4wtWX",
        "outputId": "1a63509d-429a-4c7f-9be3-b1a1795bc4eb",
        "colab": {
          "base_uri": "https://localhost:8080/",
          "height": 584
        }
      },
      "id": "FMChSp_4wtWX",
      "execution_count": 6,
      "outputs": [
        {
          "output_type": "stream",
          "name": "stdout",
          "text": [
            "Requirement already satisfied: transformers in /usr/local/lib/python3.10/dist-packages (4.35.2)\n",
            "Collecting transformers\n",
            "  Downloading transformers-4.37.2-py3-none-any.whl (8.4 MB)\n",
            "\u001b[2K     \u001b[90m━━━━━━━━━━━━━━━━━━━━━━━━━━━━━━━━━━━━━━━━\u001b[0m \u001b[32m8.4/8.4 MB\u001b[0m \u001b[31m23.0 MB/s\u001b[0m eta \u001b[36m0:00:00\u001b[0m\n",
            "\u001b[?25hRequirement already satisfied: filelock in /usr/local/lib/python3.10/dist-packages (from transformers) (3.13.1)\n",
            "Requirement already satisfied: huggingface-hub<1.0,>=0.19.3 in /usr/local/lib/python3.10/dist-packages (from transformers) (0.20.3)\n",
            "Requirement already satisfied: numpy>=1.17 in /usr/local/lib/python3.10/dist-packages (from transformers) (1.23.5)\n",
            "Requirement already satisfied: packaging>=20.0 in /usr/local/lib/python3.10/dist-packages (from transformers) (23.2)\n",
            "Requirement already satisfied: pyyaml>=5.1 in /usr/local/lib/python3.10/dist-packages (from transformers) (6.0.1)\n",
            "Requirement already satisfied: regex!=2019.12.17 in /usr/local/lib/python3.10/dist-packages (from transformers) (2023.12.25)\n",
            "Requirement already satisfied: requests in /usr/local/lib/python3.10/dist-packages (from transformers) (2.31.0)\n",
            "Requirement already satisfied: tokenizers<0.19,>=0.14 in /usr/local/lib/python3.10/dist-packages (from transformers) (0.15.1)\n",
            "Requirement already satisfied: safetensors>=0.4.1 in /usr/local/lib/python3.10/dist-packages (from transformers) (0.4.2)\n",
            "Requirement already satisfied: tqdm>=4.27 in /usr/local/lib/python3.10/dist-packages (from transformers) (4.66.1)\n",
            "Requirement already satisfied: fsspec>=2023.5.0 in /usr/local/lib/python3.10/dist-packages (from huggingface-hub<1.0,>=0.19.3->transformers) (2023.6.0)\n",
            "Requirement already satisfied: typing-extensions>=3.7.4.3 in /usr/local/lib/python3.10/dist-packages (from huggingface-hub<1.0,>=0.19.3->transformers) (4.9.0)\n",
            "Requirement already satisfied: charset-normalizer<4,>=2 in /usr/local/lib/python3.10/dist-packages (from requests->transformers) (3.3.2)\n",
            "Requirement already satisfied: idna<4,>=2.5 in /usr/local/lib/python3.10/dist-packages (from requests->transformers) (3.6)\n",
            "Requirement already satisfied: urllib3<3,>=1.21.1 in /usr/local/lib/python3.10/dist-packages (from requests->transformers) (2.0.7)\n",
            "Requirement already satisfied: certifi>=2017.4.17 in /usr/local/lib/python3.10/dist-packages (from requests->transformers) (2024.2.2)\n",
            "Installing collected packages: transformers\n",
            "  Attempting uninstall: transformers\n",
            "    Found existing installation: transformers 4.35.2\n",
            "    Uninstalling transformers-4.35.2:\n",
            "      Successfully uninstalled transformers-4.35.2\n",
            "Successfully installed transformers-4.37.2\n"
          ]
        },
        {
          "output_type": "display_data",
          "data": {
            "application/vnd.colab-display-data+json": {
              "pip_warning": {
                "packages": [
                  "transformers"
                ]
              }
            }
          },
          "metadata": {}
        }
      ]
    },
    {
      "cell_type": "code",
      "execution_count": 2,
      "id": "4776f0c7",
      "metadata": {
        "id": "4776f0c7",
        "outputId": "3a62e481-b9ec-427b-c02c-38aae693b885",
        "colab": {
          "base_uri": "https://localhost:8080/",
          "height": 191,
          "referenced_widgets": [
            "ff93ed5fdbb84d43891791bfa975094f",
            "99249878b2b84a42bf757fd45d597041",
            "6f7fd0e6d8fb4fc5bf14882d9dec5f4e",
            "d514896b4cdf42efa61a797e8d040a1c",
            "02c2ab81bee74cb3ae53fca8dedf825d",
            "dbd127164d594582bff5fefa5d9cbb05",
            "a8fc8ca83a644e24b8b56fb3b8f76905",
            "398b9c00a4774b468b00616625feeb2b",
            "25f2f4fe02fc40d196507355a14c84fb",
            "69282af7aaec4cd4bf271fe855b695ae",
            "910b2712dfc546aaa7ff77fdba2cee67"
          ]
        }
      },
      "outputs": [
        {
          "output_type": "stream",
          "name": "stderr",
          "text": [
            "/usr/local/lib/python3.10/dist-packages/huggingface_hub/utils/_token.py:88: UserWarning: \n",
            "The secret `HF_TOKEN` does not exist in your Colab secrets.\n",
            "To authenticate with the Hugging Face Hub, create a token in your settings tab (https://huggingface.co/settings/tokens), set it as secret in your Google Colab and restart your session.\n",
            "You will be able to reuse this secret in all of your notebooks.\n",
            "Please note that authentication is recommended but still optional to access public models or datasets.\n",
            "  warnings.warn(\n"
          ]
        },
        {
          "output_type": "display_data",
          "data": {
            "text/plain": [
              "Fetching 20 files:   0%|          | 0/20 [00:00<?, ?it/s]"
            ],
            "application/vnd.jupyter.widget-view+json": {
              "version_major": 2,
              "version_minor": 0,
              "model_id": "ff93ed5fdbb84d43891791bfa975094f"
            }
          },
          "metadata": {}
        },
        {
          "output_type": "stream",
          "name": "stdout",
          "text": [
            "loading existing colbert_linear and sparse_linear---------\n"
          ]
        }
      ],
      "source": [
        "from FlagEmbedding import BGEM3FlagModel\n",
        "\n",
        "model = BGEM3FlagModel('BAAI/bge-m3', use_fp16=True)"
      ]
    },
    {
      "cell_type": "markdown",
      "id": "6f97c414",
      "metadata": {
        "id": "6f97c414"
      },
      "source": [
        "## A demo passage\n",
        "\n",
        "Let us encode a simple passage"
      ]
    },
    {
      "cell_type": "code",
      "execution_count": 3,
      "id": "06045105",
      "metadata": {
        "id": "06045105"
      },
      "outputs": [],
      "source": [
        "\n",
        "passage = [\"BGE M3 is an embedding model supporting dense retrieval, lexical matching and multi-vector interaction.\"]"
      ]
    },
    {
      "cell_type": "code",
      "execution_count": 4,
      "id": "cdc307bc",
      "metadata": {
        "id": "cdc307bc",
        "outputId": "8c1b071c-a5ab-4323-88a9-e15d35f2389a",
        "colab": {
          "base_uri": "https://localhost:8080/"
        }
      },
      "outputs": [
        {
          "output_type": "stream",
          "name": "stderr",
          "text": [
            "/usr/local/lib/python3.10/dist-packages/torch/utils/data/dataloader.py:557: UserWarning: This DataLoader will create 4 worker processes in total. Our suggested max number of worker in current system is 2, which is smaller than what this DataLoader is going to create. Please be aware that excessive worker creation might get DataLoader running slow or even freeze, lower the worker number to avoid potential slowness/freeze if necessary.\n",
            "  warnings.warn(_create_warning_msg(\n",
            "encoding: 100%|██████████| 1/1 [00:01<00:00,  1.85s/it]\n"
          ]
        }
      ],
      "source": [
        "passage_embeddings = model.encode(passage, return_dense=True, return_sparse=True, return_colbert_vecs=True)"
      ]
    },
    {
      "cell_type": "code",
      "execution_count": 5,
      "id": "e5aae8ce",
      "metadata": {
        "id": "e5aae8ce",
        "outputId": "378c8238-a8ef-4a7d-b39f-a86dcc35acf4",
        "colab": {
          "base_uri": "https://localhost:8080/"
        }
      },
      "outputs": [
        {
          "output_type": "execute_result",
          "data": {
            "text/plain": [
              "dict_keys(['dense_vecs', 'lexical_weights', 'colbert_vecs'])"
            ]
          },
          "metadata": {},
          "execution_count": 5
        }
      ],
      "source": [
        "passage_embeddings.keys()"
      ]
    },
    {
      "cell_type": "markdown",
      "id": "da356d25",
      "metadata": {
        "id": "da356d25"
      },
      "source": [
        "## Defining the Vespa application\n",
        "[PyVespa](https://pyvespa.readthedocs.io/en/latest/) helps us build the [Vespa application package](https://docs.vespa.ai/en/application-packages.html).\n",
        "A Vespa application package consists of configuration files, schemas, models, and code (plugins).   \n",
        "\n",
        "First, we define a [Vespa schema](https://docs.vespa.ai/en/schemas.html) with the fields we want to store and their type. We\n",
        "use Vespa [tensors](https://docs.vespa.ai/en/tensor-user-guide.html) to represent the three different M3 representations.\n",
        "\n",
        "- We use a mapped tensor denoted by `t{}` to represent the sparse lexical representation\n",
        "- We use an indexed tensor denoted by `x[1024]` to represent the dense single vector representation of 1024 dimensions\n",
        "- For the colbert_rep (multi-vector), we use a mixed tensor that combines a mapped and an indexed dimension. This mixed tensor allows us to represent variable lengths.\n",
        "\n",
        "We use `bfloat16` tensor cell type, saving 50% storage compared to `float`."
      ]
    },
    {
      "cell_type": "code",
      "execution_count": 6,
      "id": "0dca2378",
      "metadata": {
        "id": "0dca2378"
      },
      "outputs": [],
      "source": [
        "from vespa.package import Schema, Document, Field, FieldSet\n",
        "m_schema = Schema(\n",
        "            name=\"m\",\n",
        "            document=Document(\n",
        "                fields=[\n",
        "                    Field(name=\"id\", type=\"string\", indexing=[\"summary\"]),\n",
        "                    Field(name=\"text\", type=\"string\", indexing=[\"summary\", \"index\"], index=\"enable-bm25\"),\n",
        "                    Field(name=\"lexical_rep\", type=\"tensor<bfloat16>(t{})\", indexing=[\"summary\", \"attribute\"]),\n",
        "                    Field(name=\"dense_rep\", type=\"tensor<bfloat16>(x[1024])\", indexing=[\"summary\", \"attribute\"], attribute=[\"distance-metric: angular\"]),\n",
        "                    Field(name=\"colbert_rep\", type=\"tensor<bfloat16>(t{}, x[1024])\", indexing=[\"summary\", \"attribute\"])\n",
        "                ],\n",
        "            ),\n",
        "            fieldsets=[\n",
        "                FieldSet(name = \"default\", fields = [\"text\"])\n",
        "            ]\n",
        ")"
      ]
    },
    {
      "cell_type": "markdown",
      "id": "2834fe25",
      "metadata": {
        "id": "2834fe25"
      },
      "source": [
        "The above defines our `m` schema with the original text and the three different representations"
      ]
    },
    {
      "cell_type": "code",
      "execution_count": 7,
      "id": "66c5da1d",
      "metadata": {
        "id": "66c5da1d"
      },
      "outputs": [],
      "source": [
        "from vespa.package import ApplicationPackage\n",
        "\n",
        "vespa_app_name = \"m\"\n",
        "vespa_application_package = ApplicationPackage(\n",
        "        name=vespa_app_name,\n",
        "        schema=[m_schema]\n",
        ")"
      ]
    },
    {
      "cell_type": "markdown",
      "id": "7fe3d7bd",
      "metadata": {
        "id": "7fe3d7bd"
      },
      "source": [
        "In the last step, we configure [ranking](https://docs.vespa.ai/en/ranking.html) by adding `rank-profile`'s to the schema.\n",
        "\n",
        "\n",
        "We define three functions that implement the three different scoring functions for the different representations\n",
        "\n",
        "- dense (dense cosine similarity)\n",
        "- sparse (sparse dot product)\n",
        "- max_sim (The colbert max sim operation)\n",
        "\n",
        "Then, we combine these three scoring functions using a linear combination with weights, as suggested\n",
        "by the authors [here](https://github.com/FlagOpen/FlagEmbedding/tree/master/FlagEmbedding/BGE_M3#compute-score-for-text-pairs).\n"
      ]
    },
    {
      "cell_type": "code",
      "execution_count": 8,
      "id": "a8ce5624",
      "metadata": {
        "id": "a8ce5624"
      },
      "outputs": [],
      "source": [
        "from vespa.package import RankProfile, Function,  FirstPhaseRanking\n",
        "\n",
        "\n",
        "semantic = RankProfile(\n",
        "    name=\"m3hybrid\",\n",
        "    inputs=[\n",
        "        (\"query(q_dense)\", \"tensor<bfloat16>(x[1024])\"),\n",
        "        (\"query(q_lexical)\", \"tensor<bfloat16>(t{})\"),\n",
        "        (\"query(q_colbert)\", \"tensor<bfloat16>(qt{}, x[1024])\"),\n",
        "        (\"query(q_len_colbert)\", \"float\"),\n",
        "    ],\n",
        "    functions=[\n",
        "        Function(\n",
        "            name=\"dense\",\n",
        "            expression=\"cosine_similarity(query(q_dense), attribute(dense_rep),x)\"\n",
        "        ),\n",
        "        Function(\n",
        "            name=\"lexical\",\n",
        "            expression=\"sum(query(q_lexical) * attribute(lexical_rep))\"\n",
        "        ),\n",
        "        Function(\n",
        "            name=\"max_sim\",\n",
        "            expression=\"sum(reduce(sum(query(q_colbert) * attribute(colbert_rep) , x),max, t),qt)/query(q_len_colbert)\"\n",
        "        )\n",
        "    ],\n",
        "    first_phase=FirstPhaseRanking(\n",
        "        expression=\"0.4*dense + 0.2*lexical +  0.4*max_sim\",\n",
        "        rank_score_drop_limit=0.0\n",
        "    ),\n",
        "    match_features=[\"dense\", \"lexical\", \"max_sim\", \"bm25(text)\"]\n",
        ")\n",
        "m_schema.add_rank_profile(semantic)"
      ]
    },
    {
      "cell_type": "markdown",
      "id": "ce78268c",
      "metadata": {
        "id": "ce78268c"
      },
      "source": [
        "The `m3hybrid` rank-profile above defines the query input embedding type and a similarities function that\n",
        "uses a Vespa [tensor compute function](https://docs.vespa.ai/en/reference/ranking-expressions.html#tensor-functions) that calculates\n",
        "the M3 similarities for dense, lexical, and the max_sim for the colbert representations.\n",
        "\n",
        "The profile only defines a single ranking phase, using a linear combination of multiple features using the suggested weighting.\n",
        "\n",
        "Using [match-features](https://docs.vespa.ai/en/reference/schema-reference.html#match-features), Vespa\n",
        "returns selected features along with the hit in the SERP (result page). We also include BM25. We can view BM25 as the fourth dimension.\n",
        "Especially for long-context retrieval, it can be helpful compared to the neural representations."
      ]
    },
    {
      "cell_type": "markdown",
      "id": "846545f9",
      "metadata": {
        "id": "846545f9"
      },
      "source": [
        "## Deploy the application to Vespa Cloud\n",
        "\n",
        "With the configured application, we can deploy it to [Vespa Cloud](https://cloud.vespa.ai/en/).\n",
        "It is also possible to deploy the app using docker; see the [Hybrid Search - Quickstart](https://pyvespa.readthedocs.io/en/latest/getting-started-pyvespa.html) guide for\n",
        "an example of deploying it to a local docker container."
      ]
    },
    {
      "cell_type": "markdown",
      "id": "16179d9b",
      "metadata": {
        "id": "16179d9b"
      },
      "source": [
        "Install the Vespa CLI using [homebrew](https://brew.sh/) - or download a binary from GitHub as demonstrated below."
      ]
    },
    {
      "cell_type": "code",
      "execution_count": 9,
      "id": "343981ce",
      "metadata": {
        "id": "343981ce",
        "outputId": "20169731-48b8-4211-9683-b97ea6b400bf",
        "colab": {
          "base_uri": "https://localhost:8080/"
        }
      },
      "outputs": [
        {
          "output_type": "stream",
          "name": "stdout",
          "text": [
            "/bin/bash: line 1: brew: command not found\n"
          ]
        }
      ],
      "source": [
        "!brew install vespa-cli"
      ]
    },
    {
      "cell_type": "markdown",
      "id": "863d0700",
      "metadata": {
        "id": "863d0700"
      },
      "source": [
        "Alternatively, if running in Colab, download the Vespa CLI:"
      ]
    },
    {
      "cell_type": "code",
      "execution_count": 10,
      "id": "d5670bb6",
      "metadata": {
        "id": "d5670bb6"
      },
      "outputs": [],
      "source": [
        "import os\n",
        "import requests\n",
        "res = requests.get(url=\"https://api.github.com/repos/vespa-engine/vespa/releases/latest\").json()\n",
        "os.environ[\"VERSION\"] = res[\"tag_name\"].replace(\"v\", \"\")\n",
        "!curl -fsSL https://github.com/vespa-engine/vespa/releases/download/v${VERSION}/vespa-cli_${VERSION}_linux_amd64.tar.gz | tar -zxf -\n",
        "!ln -sf /content/vespa-cli_${VERSION}_linux_amd64/bin/vespa /bin/vespa"
      ]
    },
    {
      "cell_type": "markdown",
      "id": "0ff00727",
      "metadata": {
        "id": "0ff00727"
      },
      "source": [
        "To deploy the application to Vespa Cloud we need to create a tenant in the Vespa Cloud:\n",
        "\n",
        "Create a tenant at [console.vespa-cloud.com](https://console.vespa-cloud.com/) (unless you already have one).\n",
        "This step requires a Google or GitHub account, and will start your [free trial](https://cloud.vespa.ai/en/free-trial).\n",
        "Make note of the tenant name, it is used in the next steps."
      ]
    },
    {
      "cell_type": "markdown",
      "id": "df9f9a1c",
      "metadata": {
        "id": "df9f9a1c"
      },
      "source": [
        "### Configure Vespa Cloud date-plane security\n",
        "\n",
        "Create Vespa Cloud data-plane mTLS cert/key-pair. The mutual certificate pair is used to talk to your Vespa cloud endpoints. See [Vespa Cloud Security Guide](https://cloud.vespa.ai/en/security/guide) for details.\n",
        "\n",
        "We save the paths to the credentials for later data-plane access without using pyvespa APIs."
      ]
    },
    {
      "cell_type": "code",
      "execution_count": 11,
      "id": "b6a766d6",
      "metadata": {
        "id": "b6a766d6",
        "outputId": "0a575e34-f708-46cf-ebf3-8da4f2c66a6a",
        "colab": {
          "base_uri": "https://localhost:8080/"
        }
      },
      "outputs": [
        {
          "output_type": "stream",
          "name": "stdout",
          "text": [
            "\u001b[32mSuccess:\u001b[0m Certificate written to \u001b[36m'/root/.vespa/testcolbert.m.default/data-plane-public-cert.pem'\u001b[0m\n",
            "\u001b[32mSuccess:\u001b[0m Private key written to \u001b[36m'/root/.vespa/testcolbert.m.default/data-plane-private-key.pem'\u001b[0m\n"
          ]
        }
      ],
      "source": [
        "import os\n",
        "\n",
        "os.environ[\"TENANT_NAME\"] = \"testcolbert\" # Replace with your tenant name\n",
        "\n",
        "vespa_cli_command = f'vespa config set application {os.environ[\"TENANT_NAME\"]}.{vespa_app_name}'\n",
        "\n",
        "!vespa config set target cloud\n",
        "!{vespa_cli_command}\n",
        "!vespa auth cert -N"
      ]
    },
    {
      "cell_type": "markdown",
      "id": "b228381b",
      "metadata": {
        "id": "b228381b"
      },
      "source": [
        "Validate that we have the expected data-plane credential files:"
      ]
    },
    {
      "cell_type": "code",
      "execution_count": 12,
      "id": "1f0b97c8",
      "metadata": {
        "id": "1f0b97c8"
      },
      "outputs": [],
      "source": [
        "from os.path import exists\n",
        "from pathlib import Path\n",
        "\n",
        "cert_path = Path.home() / \".vespa\" / f\"{os.environ['TENANT_NAME']}.{vespa_app_name}.default/data-plane-public-cert.pem\"\n",
        "key_path = Path.home() / \".vespa\" / f\"{os.environ['TENANT_NAME']}.{vespa_app_name}.default/data-plane-private-key.pem\"\n",
        "\n",
        "if not exists(cert_path) or not exists(key_path):\n",
        "    print(\"ERROR: set the correct paths to security credentials. Correct paths above and rerun until you do not see this error\")"
      ]
    },
    {
      "cell_type": "markdown",
      "id": "85ce80e0",
      "metadata": {
        "id": "85ce80e0"
      },
      "source": [
        "Note that the subsequent Vespa Cloud deploy call below will add `data-plane-public-cert.pem` to the application before deploying it to Vespa Cloud, so that\n",
        "you have access to both the private key and the public certificate. At the same time, Vespa Cloud only knows the public certificate.\n",
        "\n",
        "### Configure Vespa Cloud control-plane security\n",
        "\n",
        "Authenticate to generate a tenant level control plane API key for deploying the applications to Vespa Cloud, and save the path to it.\n",
        "\n",
        "The generated tenant api key must be added in the Vespa Console before attemting to deploy the application.\n",
        "\n",
        "```\n",
        "To use this key in Vespa Cloud click 'Add custom key' at\n",
        "https://console.vespa-cloud.com/tenant/TENANT_NAME/account/keys\n",
        "and paste the entire public key including the BEGIN and END lines.\n",
        "```"
      ]
    },
    {
      "cell_type": "code",
      "execution_count": 13,
      "id": "5bf8731c",
      "metadata": {
        "id": "5bf8731c",
        "outputId": "d65ef5e0-bd37-4b8a-b088-f7aa69632d99",
        "colab": {
          "base_uri": "https://localhost:8080/"
        }
      },
      "outputs": [
        {
          "output_type": "stream",
          "name": "stdout",
          "text": [
            "\u001b[32mSuccess:\u001b[0m Developer private key for tenant \u001b[36mtestcolbert\u001b[0m written to '/root/.vespa/testcolbert.api-key.pem'\n",
            "\n",
            "This is your public key:\n",
            "\u001b[32m-----BEGIN PUBLIC KEY-----\n",
            "MFkwEwYHKoZIzj0CAQYIKoZIzj0DAQcDQgAEGjsm4wQI5/dNDjpzkLONFiYXJaln\n",
            "C+SZJXQqnpONULi9VpYgLkIS8XmEKGoLo0uygbZw+C21y+ld5lhO/GHCKg==\n",
            "-----END PUBLIC KEY-----\n",
            "\u001b[0m\n",
            "Its fingerprint is:\n",
            "\u001b[36m5b:bc:b5:02:fe:b3:c7:33:34:ce:37:2e:76:ed:55:cf\u001b[0m\n",
            "\n",
            "To use this key in Vespa Cloud click 'Add custom key' at\n",
            "\u001b[36mhttps://console.vespa-cloud.com/tenant/testcolbert/account/keys\u001b[0m\n",
            "and paste the entire public key including the BEGIN and END lines.\n"
          ]
        }
      ],
      "source": [
        "!vespa auth api-key\n",
        "\n",
        "from pathlib import Path\n",
        "api_key_path = Path.home() / \".vespa\" / f\"{os.environ['TENANT_NAME']}.api-key.pem\""
      ]
    },
    {
      "cell_type": "markdown",
      "id": "21db1010",
      "metadata": {
        "id": "21db1010"
      },
      "source": [
        "### Deploy to Vespa Cloud\n",
        "\n",
        "Now that we have data-plane and control-plane credentials ready, we can deploy our application to Vespa Cloud!\n",
        "\n",
        "`PyVespa` supports deploying apps to the [development zone](https://cloud.vespa.ai/en/reference/environments#dev-and-perf).\n",
        "\n",
        ">Note: Deployments to dev and perf expire after 7 days of inactivity, i.e., 7 days after running deploy. This applies to all plans, not only the Free Trial. Use the Vespa Console to extend the expiry period, or redeploy the application to add 7 more days."
      ]
    },
    {
      "cell_type": "code",
      "execution_count": 14,
      "id": "b5fddf9f",
      "metadata": {
        "id": "b5fddf9f"
      },
      "outputs": [],
      "source": [
        "from vespa.deployment import VespaCloud\n",
        "\n",
        "def read_secret():\n",
        "    \"\"\"Read the API key from the environment variable. This is\n",
        "    only used for CI/CD purposes.\"\"\"\n",
        "    t = os.getenv(\"VESPA_TEAM_API_KEY\")\n",
        "    if t:\n",
        "        return t.replace(r\"\\n\", \"\\n\")\n",
        "    else:\n",
        "        return t\n",
        "\n",
        "vespa_cloud = VespaCloud(\n",
        "    tenant=os.environ[\"TENANT_NAME\"],\n",
        "    application=vespa_app_name,\n",
        "    key_content=read_secret() if read_secret() else None,\n",
        "    key_location=api_key_path,\n",
        "    application_package=vespa_application_package)"
      ]
    },
    {
      "cell_type": "markdown",
      "id": "fa9baa5a",
      "metadata": {
        "id": "fa9baa5a"
      },
      "source": [
        "Now deploy the app to Vespa Cloud dev zone.\n",
        "\n",
        "The first deployment typically takes 2 minutes until the endpoint is up."
      ]
    },
    {
      "cell_type": "code",
      "execution_count": 15,
      "id": "fe954dc4",
      "metadata": {
        "id": "fe954dc4",
        "outputId": "e4d6df78-ebb9-45d4-ff4c-654e73b9cc1d",
        "colab": {
          "base_uri": "https://localhost:8080/"
        }
      },
      "outputs": [
        {
          "output_type": "stream",
          "name": "stdout",
          "text": [
            "Deployment started in run 1 of dev-aws-us-east-1c for testcolbert.m. This may take a few minutes the first time.\n",
            "INFO    [04:01:15]  Deploying platform version 8.300.15 and application dev build 1 for dev-aws-us-east-1c of default ...\n",
            "INFO    [04:01:15]  Using CA signed certificate version 0\n",
            "INFO    [04:01:15]  Using 1 nodes in container cluster 'm_container'\n",
            "INFO    [04:01:19]  Session 2 for tenant 'testcolbert' prepared and activated.\n",
            "INFO    [04:01:22]  ######## Details for all nodes ########\n",
            "INFO    [04:01:39]  h88971a.dev.aws-us-east-1c.vespa-external.aws.oath.cloud: expected to be UP\n",
            "INFO    [04:01:39]  --- platform vespa/cloud-tenant-rhel8:8.300.15 <-- :\n",
            "INFO    [04:01:39]  --- storagenode on port 19102 has not started \n",
            "INFO    [04:01:39]  --- searchnode on port 19107 has not started \n",
            "INFO    [04:01:39]  --- distributor on port 19111 has not started \n",
            "INFO    [04:01:39]  --- metricsproxy-container on port 19092 has not started \n",
            "INFO    [04:01:39]  h88976g.dev.aws-us-east-1c.vespa-external.aws.oath.cloud: expected to be UP\n",
            "INFO    [04:01:39]  --- platform vespa/cloud-tenant-rhel8:8.300.15 <-- :\n",
            "INFO    [04:01:39]  --- logserver-container on port 4080 has not started \n",
            "INFO    [04:01:39]  --- metricsproxy-container on port 19092 has not started \n",
            "INFO    [04:01:39]  h88976h.dev.aws-us-east-1c.vespa-external.aws.oath.cloud: expected to be UP\n",
            "INFO    [04:01:39]  --- platform vespa/cloud-tenant-rhel8:8.300.15 <-- :\n",
            "INFO    [04:01:39]  --- container-clustercontroller on port 19050 has not started \n",
            "INFO    [04:01:39]  --- metricsproxy-container on port 19092 has not started \n",
            "INFO    [04:01:39]  h90586a.dev.aws-us-east-1c.vespa-external.aws.oath.cloud: expected to be UP\n",
            "INFO    [04:01:39]  --- platform vespa/cloud-tenant-rhel8:8.300.15 <-- :\n",
            "INFO    [04:01:39]  --- container on port 4080 has not started \n",
            "INFO    [04:01:39]  --- metricsproxy-container on port 19092 has not started \n",
            "INFO    [04:02:41]  Waiting for convergence of 10 services across 4 nodes\n",
            "INFO    [04:02:41]  1/1 nodes upgrading platform\n",
            "DEBUG   [04:02:41]  h90586a.dev.aws-us-east-1c.vespa-external.aws.oath.cloud: expected to be UP\n",
            "DEBUG   [04:02:41]  --- platform vespa/cloud-tenant-rhel8:8.300.15 <-- :\n",
            "INFO    [04:03:11]  Found endpoints:\n",
            "INFO    [04:03:11]  - dev.aws-us-east-1c\n",
            "INFO    [04:03:11]   |-- https://a8d7725c.dccaf193.z.vespa-app.cloud/ (cluster 'm_container')\n",
            "INFO    [04:03:12]  Installation succeeded!\n",
            "Using mTLS (key,cert) Authentication against endpoint https://a8d7725c.dccaf193.z.vespa-app.cloud//ApplicationStatus\n",
            "Application is up!\n",
            "Finished deployment.\n"
          ]
        }
      ],
      "source": [
        "from vespa.application import Vespa\n",
        "app:Vespa = vespa_cloud.deploy()"
      ]
    },
    {
      "cell_type": "markdown",
      "id": "b7d54bd1",
      "metadata": {
        "id": "b7d54bd1"
      },
      "source": [
        "# Feed the M3 representations\n",
        "\n",
        "We convert the three different representations to Vespa feed format"
      ]
    },
    {
      "cell_type": "code",
      "execution_count": 16,
      "id": "1674c66e",
      "metadata": {
        "id": "1674c66e"
      },
      "outputs": [],
      "source": [
        "vespa_fields = {\n",
        "    \"text\": passage[0],\n",
        "    \"lexical_rep\": {key: float(value) for key, value in passage_embeddings['lexical_weights'][0].items()},\n",
        "    \"dense_rep\":passage_embeddings['dense_vecs'][0].tolist(),\n",
        "    \"colbert_rep\":  {index: passage_embeddings['colbert_vecs'][0][index].tolist() for index in range(passage_embeddings['colbert_vecs'][0].shape[0])}\n",
        "}"
      ]
    },
    {
      "cell_type": "code",
      "execution_count": 17,
      "id": "e0d36138",
      "metadata": {
        "id": "e0d36138"
      },
      "outputs": [],
      "source": [
        "from vespa.io import VespaResponse\n",
        "response: VespaResponse = app.feed_data_point(schema='m', data_id=0, fields=vespa_fields)\n",
        "assert(response.is_successful())"
      ]
    },
    {
      "cell_type": "markdown",
      "id": "20b007ec",
      "metadata": {
        "id": "20b007ec"
      },
      "source": [
        "### Querying data\n",
        "\n",
        "Now, we can also query our data.\n",
        "\n",
        "Read more about querying Vespa in:\n",
        "\n",
        "- [Vespa Query API](https://docs.vespa.ai/en/query-api.html)\n",
        "- [Vespa Query API reference](https://docs.vespa.ai/en/reference/query-api-reference.html)\n",
        "- [Vespa Query Language API (YQL)](https://docs.vespa.ai/en/query-language.html)\n",
        "\n"
      ]
    },
    {
      "cell_type": "code",
      "execution_count": 18,
      "id": "810b99d9",
      "metadata": {
        "id": "810b99d9",
        "outputId": "dace7b3e-fb8f-4b38-a80f-c97aef6234a1",
        "colab": {
          "base_uri": "https://localhost:8080/"
        }
      },
      "outputs": [
        {
          "output_type": "stream",
          "name": "stderr",
          "text": [
            "encoding: 100%|██████████| 1/1 [00:00<00:00,  3.51it/s]\n"
          ]
        }
      ],
      "source": [
        "query  = [\"What is BGE M3?\"]\n",
        "query_embeddings = model.encode(query, return_dense=True, return_sparse=True, return_colbert_vecs=True)"
      ]
    },
    {
      "cell_type": "markdown",
      "id": "3533ecc3",
      "metadata": {
        "id": "3533ecc3"
      },
      "source": [
        "The M3 colbert scoring function needs the query length to normalize the score to the range 0 to 1. This helps when combining\n",
        "the score with the other scoring functions."
      ]
    },
    {
      "cell_type": "code",
      "execution_count": 19,
      "id": "4d1c75ff",
      "metadata": {
        "id": "4d1c75ff"
      },
      "outputs": [],
      "source": [
        "query_length = query_embeddings['colbert_vecs'][0].shape[0]"
      ]
    },
    {
      "cell_type": "code",
      "execution_count": 20,
      "id": "4dc09c4f",
      "metadata": {
        "id": "4dc09c4f"
      },
      "outputs": [],
      "source": [
        "query_fields = {\n",
        "    \"input.query(q_lexical)\": {key: float(value) for key, value in query_embeddings['lexical_weights'][0].items()},\n",
        "    \"input.query(q_dense)\": query_embeddings['dense_vecs'][0].tolist(),\n",
        "    \"input.query(q_colbert)\":  str({index: query_embeddings['colbert_vecs'][0][index].tolist() for index in range(query_embeddings['colbert_vecs'][0].shape[0])}),\n",
        "    \"input.query(q_len_colbert)\": query_length\n",
        "}"
      ]
    },
    {
      "cell_type": "code",
      "execution_count": 21,
      "id": "b9349fb4",
      "metadata": {
        "id": "b9349fb4",
        "outputId": "0b024e43-ea07-4a03-cf3f-7393edc42685",
        "colab": {
          "base_uri": "https://localhost:8080/"
        }
      },
      "outputs": [
        {
          "output_type": "stream",
          "name": "stdout",
          "text": [
            "{\n",
            "  \"id\": \"index:m_content/0/cfcd2084234135f700f08abf\",\n",
            "  \"relevance\": 0.5996216647060376,\n",
            "  \"source\": \"m_content\",\n",
            "  \"fields\": {\n",
            "    \"matchfeatures\": {\n",
            "      \"bm25(text)\": 0.8630462173553426,\n",
            "      \"dense\": 0.6261456887502626,\n",
            "      \"lexical\": 0.1947002410888672,\n",
            "      \"max_sim\": 0.775558352470398\n",
            "    },\n",
            "    \"text\": \"BGE M3 is an embedding model supporting dense retrieval, lexical matching and multi-vector interaction.\"\n",
            "  }\n",
            "}\n"
          ]
        }
      ],
      "source": [
        "from vespa.io import VespaQueryResponse\n",
        "import json\n",
        "\n",
        "response:VespaQueryResponse = app.query(\n",
        "    yql=\"select id, text from m where userQuery() or ({targetHits:10}nearestNeighbor(dense_rep,q_dense))\",\n",
        "    ranking=\"m3hybrid\",\n",
        "    query=query[0],\n",
        "    body={\n",
        "        **query_fields\n",
        "    }\n",
        ")\n",
        "assert(response.is_successful())\n",
        "print(json.dumps(response.hits[0], indent=2))"
      ]
    },
    {
      "cell_type": "markdown",
      "id": "4d3ca1da",
      "metadata": {
        "id": "4d3ca1da"
      },
      "source": [
        "Notice the `matchfeatures` that returns the configured match-features from the rank-profile. We can\n",
        "use these to compare the torch model scoring with the computations specified in Vespa.\n",
        "\n",
        "Now, we can compare the Vespa computed scores with the model torch code and they line up perfectly"
      ]
    },
    {
      "cell_type": "code",
      "execution_count": 22,
      "id": "06f7b1c7",
      "metadata": {
        "id": "06f7b1c7",
        "outputId": "959d5e81-b47e-4d95-cc14-8a05ffe7fbe9",
        "colab": {
          "base_uri": "https://localhost:8080/"
        }
      },
      "outputs": [
        {
          "output_type": "execute_result",
          "data": {
            "text/plain": [
              "0.1955108642578125"
            ]
          },
          "metadata": {},
          "execution_count": 22
        }
      ],
      "source": [
        "model.compute_lexical_matching_score(passage_embeddings['lexical_weights'][0], query_embeddings['lexical_weights'][0])"
      ]
    },
    {
      "cell_type": "code",
      "execution_count": 23,
      "id": "c9af5c2f",
      "metadata": {
        "id": "c9af5c2f",
        "outputId": "632897c5-87fc-428d-dacd-b8447ffc6790",
        "colab": {
          "base_uri": "https://localhost:8080/"
        }
      },
      "outputs": [
        {
          "output_type": "execute_result",
          "data": {
            "text/plain": [
              "0.6265"
            ]
          },
          "metadata": {},
          "execution_count": 23
        }
      ],
      "source": [
        "query_embeddings['dense_vecs'][0] @ passage_embeddings['dense_vecs'][0].T"
      ]
    },
    {
      "cell_type": "code",
      "execution_count": 24,
      "id": "1bcf591c",
      "metadata": {
        "id": "1bcf591c",
        "outputId": "dfb2d7c6-b7f8-4db5-fb50-999abed78946",
        "colab": {
          "base_uri": "https://localhost:8080/"
        }
      },
      "outputs": [
        {
          "output_type": "execute_result",
          "data": {
            "text/plain": [
              "tensor(0.7799)"
            ]
          },
          "metadata": {},
          "execution_count": 24
        }
      ],
      "source": [
        "model.colbert_score(query_embeddings['colbert_vecs'][0],passage_embeddings['colbert_vecs'][0])"
      ]
    },
    {
      "cell_type": "markdown",
      "id": "341dd861",
      "metadata": {
        "id": "341dd861"
      },
      "source": [
        "### That is it!\n",
        "\n",
        "That is how easy it is to represent the brand new M3 FlagEmbedding representations in Vespa! Read more in the\n",
        "[M3 technical report](https://github.com/FlagOpen/FlagEmbedding/blob/master/FlagEmbedding/BGE_M3/BGE_M3.pdf).\n",
        "\n",
        "We can go ahead and delete the Vespa cloud instance we deployed by:\n"
      ]
    },
    {
      "cell_type": "code",
      "execution_count": null,
      "id": "af4b9ead",
      "metadata": {
        "id": "af4b9ead"
      },
      "outputs": [],
      "source": [
        "vespa_cloud.delete()"
      ]
    },
    {
      "cell_type": "markdown",
      "source": [],
      "metadata": {
        "id": "oH-Y_qmq6cgA"
      },
      "id": "oH-Y_qmq6cgA"
    }
  ],
  "metadata": {
    "kernelspec": {
      "display_name": "Python 3",
      "name": "python3"
    },
    "language_info": {
      "codemirror_mode": {
        "name": "ipython",
        "version": 3
      },
      "file_extension": ".py",
      "mimetype": "text/x-python",
      "name": "python",
      "nbconvert_exporter": "python",
      "pygments_lexer": "ipython3",
      "version": "3.11.4"
    },
    "vscode": {
      "interpreter": {
        "hash": "b0fa6594d8f4cbf19f97940f81e996739fb7646882a419484c72d19e05852a7e"
      }
    },
    "colab": {
      "provenance": [],
      "gpuType": "T4",
      "include_colab_link": true
    },
    "accelerator": "GPU",
    "widgets": {
      "application/vnd.jupyter.widget-state+json": {
        "ff93ed5fdbb84d43891791bfa975094f": {
          "model_module": "@jupyter-widgets/controls",
          "model_name": "HBoxModel",
          "model_module_version": "1.5.0",
          "state": {
            "_dom_classes": [],
            "_model_module": "@jupyter-widgets/controls",
            "_model_module_version": "1.5.0",
            "_model_name": "HBoxModel",
            "_view_count": null,
            "_view_module": "@jupyter-widgets/controls",
            "_view_module_version": "1.5.0",
            "_view_name": "HBoxView",
            "box_style": "",
            "children": [
              "IPY_MODEL_99249878b2b84a42bf757fd45d597041",
              "IPY_MODEL_6f7fd0e6d8fb4fc5bf14882d9dec5f4e",
              "IPY_MODEL_d514896b4cdf42efa61a797e8d040a1c"
            ],
            "layout": "IPY_MODEL_02c2ab81bee74cb3ae53fca8dedf825d"
          }
        },
        "99249878b2b84a42bf757fd45d597041": {
          "model_module": "@jupyter-widgets/controls",
          "model_name": "HTMLModel",
          "model_module_version": "1.5.0",
          "state": {
            "_dom_classes": [],
            "_model_module": "@jupyter-widgets/controls",
            "_model_module_version": "1.5.0",
            "_model_name": "HTMLModel",
            "_view_count": null,
            "_view_module": "@jupyter-widgets/controls",
            "_view_module_version": "1.5.0",
            "_view_name": "HTMLView",
            "description": "",
            "description_tooltip": null,
            "layout": "IPY_MODEL_dbd127164d594582bff5fefa5d9cbb05",
            "placeholder": "​",
            "style": "IPY_MODEL_a8fc8ca83a644e24b8b56fb3b8f76905",
            "value": "Fetching 20 files: 100%"
          }
        },
        "6f7fd0e6d8fb4fc5bf14882d9dec5f4e": {
          "model_module": "@jupyter-widgets/controls",
          "model_name": "FloatProgressModel",
          "model_module_version": "1.5.0",
          "state": {
            "_dom_classes": [],
            "_model_module": "@jupyter-widgets/controls",
            "_model_module_version": "1.5.0",
            "_model_name": "FloatProgressModel",
            "_view_count": null,
            "_view_module": "@jupyter-widgets/controls",
            "_view_module_version": "1.5.0",
            "_view_name": "ProgressView",
            "bar_style": "success",
            "description": "",
            "description_tooltip": null,
            "layout": "IPY_MODEL_398b9c00a4774b468b00616625feeb2b",
            "max": 20,
            "min": 0,
            "orientation": "horizontal",
            "style": "IPY_MODEL_25f2f4fe02fc40d196507355a14c84fb",
            "value": 20
          }
        },
        "d514896b4cdf42efa61a797e8d040a1c": {
          "model_module": "@jupyter-widgets/controls",
          "model_name": "HTMLModel",
          "model_module_version": "1.5.0",
          "state": {
            "_dom_classes": [],
            "_model_module": "@jupyter-widgets/controls",
            "_model_module_version": "1.5.0",
            "_model_name": "HTMLModel",
            "_view_count": null,
            "_view_module": "@jupyter-widgets/controls",
            "_view_module_version": "1.5.0",
            "_view_name": "HTMLView",
            "description": "",
            "description_tooltip": null,
            "layout": "IPY_MODEL_69282af7aaec4cd4bf271fe855b695ae",
            "placeholder": "​",
            "style": "IPY_MODEL_910b2712dfc546aaa7ff77fdba2cee67",
            "value": " 20/20 [00:00&lt;00:00, 984.13it/s]"
          }
        },
        "02c2ab81bee74cb3ae53fca8dedf825d": {
          "model_module": "@jupyter-widgets/base",
          "model_name": "LayoutModel",
          "model_module_version": "1.2.0",
          "state": {
            "_model_module": "@jupyter-widgets/base",
            "_model_module_version": "1.2.0",
            "_model_name": "LayoutModel",
            "_view_count": null,
            "_view_module": "@jupyter-widgets/base",
            "_view_module_version": "1.2.0",
            "_view_name": "LayoutView",
            "align_content": null,
            "align_items": null,
            "align_self": null,
            "border": null,
            "bottom": null,
            "display": null,
            "flex": null,
            "flex_flow": null,
            "grid_area": null,
            "grid_auto_columns": null,
            "grid_auto_flow": null,
            "grid_auto_rows": null,
            "grid_column": null,
            "grid_gap": null,
            "grid_row": null,
            "grid_template_areas": null,
            "grid_template_columns": null,
            "grid_template_rows": null,
            "height": null,
            "justify_content": null,
            "justify_items": null,
            "left": null,
            "margin": null,
            "max_height": null,
            "max_width": null,
            "min_height": null,
            "min_width": null,
            "object_fit": null,
            "object_position": null,
            "order": null,
            "overflow": null,
            "overflow_x": null,
            "overflow_y": null,
            "padding": null,
            "right": null,
            "top": null,
            "visibility": null,
            "width": null
          }
        },
        "dbd127164d594582bff5fefa5d9cbb05": {
          "model_module": "@jupyter-widgets/base",
          "model_name": "LayoutModel",
          "model_module_version": "1.2.0",
          "state": {
            "_model_module": "@jupyter-widgets/base",
            "_model_module_version": "1.2.0",
            "_model_name": "LayoutModel",
            "_view_count": null,
            "_view_module": "@jupyter-widgets/base",
            "_view_module_version": "1.2.0",
            "_view_name": "LayoutView",
            "align_content": null,
            "align_items": null,
            "align_self": null,
            "border": null,
            "bottom": null,
            "display": null,
            "flex": null,
            "flex_flow": null,
            "grid_area": null,
            "grid_auto_columns": null,
            "grid_auto_flow": null,
            "grid_auto_rows": null,
            "grid_column": null,
            "grid_gap": null,
            "grid_row": null,
            "grid_template_areas": null,
            "grid_template_columns": null,
            "grid_template_rows": null,
            "height": null,
            "justify_content": null,
            "justify_items": null,
            "left": null,
            "margin": null,
            "max_height": null,
            "max_width": null,
            "min_height": null,
            "min_width": null,
            "object_fit": null,
            "object_position": null,
            "order": null,
            "overflow": null,
            "overflow_x": null,
            "overflow_y": null,
            "padding": null,
            "right": null,
            "top": null,
            "visibility": null,
            "width": null
          }
        },
        "a8fc8ca83a644e24b8b56fb3b8f76905": {
          "model_module": "@jupyter-widgets/controls",
          "model_name": "DescriptionStyleModel",
          "model_module_version": "1.5.0",
          "state": {
            "_model_module": "@jupyter-widgets/controls",
            "_model_module_version": "1.5.0",
            "_model_name": "DescriptionStyleModel",
            "_view_count": null,
            "_view_module": "@jupyter-widgets/base",
            "_view_module_version": "1.2.0",
            "_view_name": "StyleView",
            "description_width": ""
          }
        },
        "398b9c00a4774b468b00616625feeb2b": {
          "model_module": "@jupyter-widgets/base",
          "model_name": "LayoutModel",
          "model_module_version": "1.2.0",
          "state": {
            "_model_module": "@jupyter-widgets/base",
            "_model_module_version": "1.2.0",
            "_model_name": "LayoutModel",
            "_view_count": null,
            "_view_module": "@jupyter-widgets/base",
            "_view_module_version": "1.2.0",
            "_view_name": "LayoutView",
            "align_content": null,
            "align_items": null,
            "align_self": null,
            "border": null,
            "bottom": null,
            "display": null,
            "flex": null,
            "flex_flow": null,
            "grid_area": null,
            "grid_auto_columns": null,
            "grid_auto_flow": null,
            "grid_auto_rows": null,
            "grid_column": null,
            "grid_gap": null,
            "grid_row": null,
            "grid_template_areas": null,
            "grid_template_columns": null,
            "grid_template_rows": null,
            "height": null,
            "justify_content": null,
            "justify_items": null,
            "left": null,
            "margin": null,
            "max_height": null,
            "max_width": null,
            "min_height": null,
            "min_width": null,
            "object_fit": null,
            "object_position": null,
            "order": null,
            "overflow": null,
            "overflow_x": null,
            "overflow_y": null,
            "padding": null,
            "right": null,
            "top": null,
            "visibility": null,
            "width": null
          }
        },
        "25f2f4fe02fc40d196507355a14c84fb": {
          "model_module": "@jupyter-widgets/controls",
          "model_name": "ProgressStyleModel",
          "model_module_version": "1.5.0",
          "state": {
            "_model_module": "@jupyter-widgets/controls",
            "_model_module_version": "1.5.0",
            "_model_name": "ProgressStyleModel",
            "_view_count": null,
            "_view_module": "@jupyter-widgets/base",
            "_view_module_version": "1.2.0",
            "_view_name": "StyleView",
            "bar_color": null,
            "description_width": ""
          }
        },
        "69282af7aaec4cd4bf271fe855b695ae": {
          "model_module": "@jupyter-widgets/base",
          "model_name": "LayoutModel",
          "model_module_version": "1.2.0",
          "state": {
            "_model_module": "@jupyter-widgets/base",
            "_model_module_version": "1.2.0",
            "_model_name": "LayoutModel",
            "_view_count": null,
            "_view_module": "@jupyter-widgets/base",
            "_view_module_version": "1.2.0",
            "_view_name": "LayoutView",
            "align_content": null,
            "align_items": null,
            "align_self": null,
            "border": null,
            "bottom": null,
            "display": null,
            "flex": null,
            "flex_flow": null,
            "grid_area": null,
            "grid_auto_columns": null,
            "grid_auto_flow": null,
            "grid_auto_rows": null,
            "grid_column": null,
            "grid_gap": null,
            "grid_row": null,
            "grid_template_areas": null,
            "grid_template_columns": null,
            "grid_template_rows": null,
            "height": null,
            "justify_content": null,
            "justify_items": null,
            "left": null,
            "margin": null,
            "max_height": null,
            "max_width": null,
            "min_height": null,
            "min_width": null,
            "object_fit": null,
            "object_position": null,
            "order": null,
            "overflow": null,
            "overflow_x": null,
            "overflow_y": null,
            "padding": null,
            "right": null,
            "top": null,
            "visibility": null,
            "width": null
          }
        },
        "910b2712dfc546aaa7ff77fdba2cee67": {
          "model_module": "@jupyter-widgets/controls",
          "model_name": "DescriptionStyleModel",
          "model_module_version": "1.5.0",
          "state": {
            "_model_module": "@jupyter-widgets/controls",
            "_model_module_version": "1.5.0",
            "_model_name": "DescriptionStyleModel",
            "_view_count": null,
            "_view_module": "@jupyter-widgets/base",
            "_view_module_version": "1.2.0",
            "_view_name": "StyleView",
            "description_width": ""
          }
        }
      }
    }
  },
  "nbformat": 4,
  "nbformat_minor": 5
}